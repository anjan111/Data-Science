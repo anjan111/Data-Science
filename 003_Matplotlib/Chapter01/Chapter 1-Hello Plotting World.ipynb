{
 "cells": [
  {
   "cell_type": "code",
   "execution_count": 1,
   "metadata": {},
   "outputs": [],
   "source": [
    "# Be sure to call this Jupyter notebook \"cell magic\" each time when opening a new notebook, \n",
    "# to display the matplotlib plots in output cells\n",
    "%matplotlib inline"
   ]
  },
  {
   "cell_type": "markdown",
   "metadata": {},
   "source": []
  },
  {
   "cell_type": "markdown",
   "metadata": {},
   "source": [
    "## Loading data for plotting"
   ]
  },
  {
   "cell_type": "markdown",
   "metadata": {},
   "source": [
    "### Data structures"
   ]
  },
  {
   "cell_type": "markdown",
   "metadata": {},
   "source": [
    "#### List"
   ]
  },
  {
   "cell_type": "code",
   "execution_count": 2,
   "metadata": {},
   "outputs": [
    {
     "name": "stdout",
     "output_type": "stream",
     "text": [
      "[2, 4, 6, 8, 10]\n"
     ]
    }
   ],
   "source": [
    "evens = [2,4,6,8,10]\n",
    "print(evens)"
   ]
  },
  {
   "cell_type": "code",
   "execution_count": 3,
   "metadata": {},
   "outputs": [
    {
     "name": "stdout",
     "output_type": "stream",
     "text": [
      "[2, 4, 6, 8, 10, 12, 14, 16, 18, 20, 22, 24, 26, 28, 30, 32, 34, 36, 38, 40, 42, 44, 46, 48, 50, 52, 54, 56, 58, 60, 62, 64, 66, 68, 70, 72, 74, 76, 78, 80, 82, 84, 86, 88, 90, 92, 94, 96, 98, 100]\n"
     ]
    }
   ],
   "source": [
    "evens = list(range(2,102,2))\n",
    "print(evens)"
   ]
  },
  {
   "cell_type": "markdown",
   "metadata": {},
   "source": [
    "#### Numpy array"
   ]
  },
  {
   "cell_type": "code",
   "execution_count": 4,
   "metadata": {},
   "outputs": [],
   "source": [
    "# numpy ----> Numarical python\n",
    "import numpy as np"
   ]
  },
  {
   "cell_type": "code",
   "execution_count": 5,
   "metadata": {},
   "outputs": [
    {
     "data": {
      "text/plain": [
       "array([  2,   4,   6,   8,  10,  12,  14,  16,  18,  20,  22,  24,  26,\n",
       "        28,  30,  32,  34,  36,  38,  40,  42,  44,  46,  48,  50,  52,\n",
       "        54,  56,  58,  60,  62,  64,  66,  68,  70,  72,  74,  76,  78,\n",
       "        80,  82,  84,  86,  88,  90,  92,  94,  96,  98, 100])"
      ]
     },
     "execution_count": 5,
     "metadata": {},
     "output_type": "execute_result"
    }
   ],
   "source": [
    "np.array(evens)"
   ]
  },
  {
   "cell_type": "code",
   "execution_count": 6,
   "metadata": {},
   "outputs": [
    {
     "data": {
      "text/plain": [
       "array([  2,   4,   6,   8,  10,  12,  14,  16,  18,  20,  22,  24,  26,\n",
       "        28,  30,  32,  34,  36,  38,  40,  42,  44,  46,  48,  50,  52,\n",
       "        54,  56,  58,  60,  62,  64,  66,  68,  70,  72,  74,  76,  78,\n",
       "        80,  82,  84,  86,  88,  90,  92,  94,  96,  98, 100])"
      ]
     },
     "execution_count": 6,
     "metadata": {},
     "output_type": "execute_result"
    }
   ],
   "source": [
    "np.arange(2,102,2)"
   ]
  },
  {
   "cell_type": "markdown",
   "metadata": {},
   "source": [
    "#### Pandas dataframe"
   ]
  },
  {
   "cell_type": "code",
   "execution_count": null,
   "metadata": {},
   "outputs": [],
   "source": [
    "\n",
    "! pip install pandas"
   ]
  },
  {
   "cell_type": "code",
   "execution_count": 10,
   "metadata": {
    "scrolled": true
   },
   "outputs": [
    {
     "name": "stdout",
     "output_type": "stream",
     "text": [
      "0       2\n",
      "1       4\n",
      "2       6\n",
      "3       8\n",
      "4      10\n",
      "5      12\n",
      "6      14\n",
      "7      16\n",
      "8      18\n",
      "9      20\n",
      "10     22\n",
      "11     24\n",
      "12     26\n",
      "13     28\n",
      "14     30\n",
      "15     32\n",
      "16     34\n",
      "17     36\n",
      "18     38\n",
      "19     40\n",
      "20     42\n",
      "21     44\n",
      "22     46\n",
      "23     48\n",
      "24     50\n",
      "25     52\n",
      "26     54\n",
      "27     56\n",
      "28     58\n",
      "29     60\n",
      "30     62\n",
      "31     64\n",
      "32     66\n",
      "33     68\n",
      "34     70\n",
      "35     72\n",
      "36     74\n",
      "37     76\n",
      "38     78\n",
      "39     80\n",
      "40     82\n",
      "41     84\n",
      "42     86\n",
      "43     88\n",
      "44     90\n",
      "45     92\n",
      "46     94\n",
      "47     96\n",
      "48     98\n",
      "49    100\n",
      "dtype: int64\n"
     ]
    }
   ],
   "source": [
    "import pandas as pd\n",
    "'''\n",
    "padas : -- ( Series --> A single col  , DataFrame --> more than 1 col )\n",
    "'''\n",
    "evens  = list(range(2,102,2)) #creating a evens list\n",
    "#print evens\n",
    "df = pd.DataFrame(evens) # converts evens list dataframe\n",
    "#print df\n",
    "df.to_csv('evens.txt', sep='\\t', header=False ) # eves dataframe save as evens.txt\n",
    "\n",
    "Sr = pd.Series(evens)\n",
    "print Sr\n",
    "#Sr.to_csv('evens2.txt',sep ='\\s',header = False)"
   ]
  },
  {
   "cell_type": "markdown",
   "metadata": {},
   "source": [
    "___\n",
    "### Loading data from files"
   ]
  },
  {
   "cell_type": "markdown",
   "metadata": {},
   "source": [
    "#### The basic Python way"
   ]
  },
  {
   "cell_type": "code",
   "execution_count": 11,
   "metadata": {},
   "outputs": [
    {
     "name": "stdout",
     "output_type": "stream",
     "text": [
      "[2, 4, 6, 8, 10, 12, 14, 16, 18, 20, 22, 24, 26, 28, 30, 32, 34, 36, 38, 40, 42, 44, 46, 48, 50, 52, 54, 56, 58, 60, 62, 64, 66, 68, 70, 72, 74, 76, 78, 80, 82, 84, 86, 88, 90, 92, 94, 96, 98, 100]\n"
     ]
    }
   ],
   "source": [
    "# from evens file we are access the even data and hold in evens list\n",
    "evens = []\n",
    "with open('evens.txt') as f:\n",
    "    for line in f.readlines():\n",
    "        evens.append(int(line.split()[1]))\n",
    "print(evens)"
   ]
  },
  {
   "cell_type": "code",
   "execution_count": 12,
   "metadata": {},
   "outputs": [
    {
     "name": "stdout",
     "output_type": "stream",
     "text": [
      "[2, 4, 6, 8, 10, 12, 14, 16, 18, 20, 22, 24, 26, 28, 30, 32, 34, 36, 38, 40, 42, 44, 46, 48, 50, 52, 54, 56, 58, 60, 62, 64, 66, 68, 70, 72, 74, 76, 78, 80, 82, 84, 86, 88, 90, 92, 94, 96, 98, 100]\n"
     ]
    }
   ],
   "source": [
    "# from evens file we are access the even data and hold in evens list\n",
    "# list comprehensions\n",
    "evens = [int(x.split()[1]) for x in open('evens.txt').readlines()]\n",
    "print(evens)"
   ]
  },
  {
   "cell_type": "markdown",
   "metadata": {},
   "source": [
    "#### The Numpy way"
   ]
  },
  {
   "cell_type": "code",
   "execution_count": 21,
   "metadata": {},
   "outputs": [
    {
     "name": "stdout",
     "output_type": "stream",
     "text": [
      "[  2   4   6   8  10  12  14  16  18  20  22  24  26  28  30  32  34  36\n",
      "  38  40  42  44  46  48  50  52  54  56  58  60  62  64  66  68  70  72\n",
      "  74  76  78  80  82  84  86  88  90  92  94  96  98 100]\n",
      "<type 'numpy.ndarray'>\n"
     ]
    }
   ],
   "source": [
    "import numpy as np\n",
    "evens = np.loadtxt('evens.txt',delimiter='\\t',usecols=1,dtype=np.int8)# array\n",
    "print(evens)\n",
    "print type(evens)\n",
    "# datavisuliztion  --> array"
   ]
  },
  {
   "cell_type": "markdown",
   "metadata": {},
   "source": [
    "#### The pandas way"
   ]
  },
  {
   "cell_type": "code",
   "execution_count": 14,
   "metadata": {},
   "outputs": [
    {
     "name": "stdout",
     "output_type": "stream",
     "text": [
      "      1\n",
      "0     2\n",
      "1     4\n",
      "2     6\n",
      "3     8\n",
      "4    10\n",
      "5    12\n",
      "6    14\n",
      "7    16\n",
      "8    18\n",
      "9    20\n",
      "10   22\n",
      "11   24\n",
      "12   26\n",
      "13   28\n",
      "14   30\n",
      "15   32\n",
      "16   34\n",
      "17   36\n",
      "18   38\n",
      "19   40\n",
      "20   42\n",
      "21   44\n",
      "22   46\n",
      "23   48\n",
      "24   50\n",
      "25   52\n",
      "26   54\n",
      "27   56\n",
      "28   58\n",
      "29   60\n",
      "30   62\n",
      "31   64\n",
      "32   66\n",
      "33   68\n",
      "34   70\n",
      "35   72\n",
      "36   74\n",
      "37   76\n",
      "38   78\n",
      "39   80\n",
      "40   82\n",
      "41   84\n",
      "42   86\n",
      "43   88\n",
      "44   90\n",
      "45   92\n",
      "46   94\n",
      "47   96\n",
      "48   98\n",
      "49  100\n",
      "<class 'pandas.core.frame.DataFrame'>\n"
     ]
    }
   ],
   "source": [
    "# daata analysis \n",
    "import pandas as pd\n",
    "evens = pd.read_csv('evens.txt',delimiter='\\t',usecols=[1],header=None)# Dataframe\n",
    "print(evens)\n",
    "print type(evens)"
   ]
  },
  {
   "cell_type": "markdown",
   "metadata": {},
   "source": [
    "___\n",
    "## Importing the Matplotlib pyplot module"
   ]
  },
  {
   "cell_type": "code",
   "execution_count": 15,
   "metadata": {},
   "outputs": [],
   "source": [
    "import matplotlib.pyplot as plt"
   ]
  },
  {
   "cell_type": "markdown",
   "metadata": {},
   "source": [
    "___\n",
    "## Plotting a curve\n",
    "## Viewing the figure"
   ]
  },
  {
   "cell_type": "code",
   "execution_count": 22,
   "metadata": {},
   "outputs": [
    {
     "data": {
      "image/png": "[encoded data removed]",
      "text/plain": [
       "<Figure size 432x288 with 1 Axes>"
      ]
     },
     "metadata": {
      "needs_background": "light"
     },
     "output_type": "display_data"
    }
   ],
   "source": [
    "import matplotlib.pyplot as plt\n",
    "plt.plot(evens)\n",
    "plt.show()"
   ]
  },
  {
   "cell_type": "code",
   "execution_count": 25,
   "metadata": {},
   "outputs": [
    {
     "data": {
      "image/png": "[encoded data removed]",
      "text/plain": [
       "<Figure size 432x288 with 1 Axes>"
      ]
     },
     "metadata": {
      "needs_background": "light"
     },
     "output_type": "display_data"
    }
   ],
   "source": [
    "plt.plot(evens)\n",
    "plt.show()"
   ]
  },
  {
   "cell_type": "code",
   "execution_count": 27,
   "metadata": {},
   "outputs": [
    {
     "data": {
      "image/png": "[encoded data removed]",
      "text/plain": [
       "<Figure size 432x288 with 1 Axes>"
      ]
     },
     "metadata": {
      "needs_background": "light"
     },
     "output_type": "display_data"
    }
   ],
   "source": [
    "plt.plot(evens,label = 'x')\n",
    "plt.legend()\n",
    "plt.show()"
   ]
  },
  {
   "cell_type": "markdown",
   "metadata": {},
   "source": [
    "## Saving the figure"
   ]
  },
  {
   "cell_type": "code",
   "execution_count": 1,
   "metadata": {},
   "outputs": [
    {
     "data": {
      "image/png": "[encoded data removed]",
      "text/plain": [
       "<Figure size 432x288 with 1 Axes>"
      ]
     },
     "metadata": {
      "needs_background": "light"
     },
     "output_type": "display_data"
    }
   ],
   "source": [
    "# daata analysis \n",
    "import pandas as pd\n",
    "import matplotlib.pyplot as plt\n",
    "%matplotlib inline\n",
    "\n",
    "evens = pd.read_csv('evens.txt',delimiter='\\t',usecols=[1],header=None)# Dataframe\n",
    "plt.plot(evens,label = 'X')\n",
    "plt.legend()\n",
    "plt.savefig('output.png',dpi=300)\n",
    "plt.show()"
   ]
  },
  {
   "cell_type": "code",
   "execution_count": null,
   "metadata": {},
   "outputs": [],
   "source": []
  }
 ],
 "metadata": {
  "kernelspec": {
   "display_name": "Python 2",
   "language": "python",
   "name": "python2"
  },
  "language_info": {
   "codemirror_mode": {
    "name": "ipython",
    "version": 2
   },
   "file_extension": ".py",
   "mimetype": "text/x-python",
   "name": "python",
   "nbconvert_exporter": "python",
   "pygments_lexer": "ipython2",
   "version": "2.7.16"
  }
 },
 "nbformat": 4,
 "nbformat_minor": 2
}
