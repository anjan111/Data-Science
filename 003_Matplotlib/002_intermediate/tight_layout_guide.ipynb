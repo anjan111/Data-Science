{
 "cells": [
  {
   "cell_type": "code",
   "execution_count": null,
   "metadata": {},
   "outputs": [],
   "source": [
    "%matplotlib inline"
   ]
  },
  {
   "cell_type": "markdown",
   "metadata": {},
   "source": [
    "\n",
    "# Tight Layout guide\n",
    "\n",
    "\n",
    "How to use tight-layout to fit plots within your figure cleanly.\n",
    "\n",
    "*tight_layout* automatically adjusts subplot params so that the\n",
    "subplot(s) fits in to the figure area. This is an experimental\n",
    "feature and may not work for some cases. It only checks the extents\n",
    "of ticklabels, axis labels, and titles.\n",
    "\n",
    "An alternative to *tight_layout* is :doc:`constrained_layout\n",
    "</tutorials/intermediate/constrainedlayout_guide>`.\n",
    "\n",
    "\n",
    "Simple Example\n",
    "==============\n",
    "\n",
    "In matplotlib, the location of axes (including subplots) are specified in\n",
    "normalized figure coordinates. It can happen that your axis labels or\n",
    "titles (or sometimes even ticklabels) go outside the figure area, and are thus\n",
    "clipped.\n"
   ]
  },
  {
   "cell_type": "code",
   "execution_count": null,
   "metadata": {},
   "outputs": [],
   "source": [
    "# sphinx_gallery_thumbnail_number = 7\n",
    "\n",
    "import matplotlib.pyplot as plt\n",
    "import numpy as np\n",
    "\n",
    "plt.rcParams['savefig.facecolor'] = \"0.8\"\n",
    "\n",
    "\n",
    "def example_plot(ax, fontsize=12):\n",
    "    ax.plot([1, 2])\n",
    "\n",
    "    ax.locator_params(nbins=3)\n",
    "    ax.set_xlabel('x-label', fontsize=fontsize)\n",
    "    ax.set_ylabel('y-label', fontsize=fontsize)\n",
    "    ax.set_title('Title', fontsize=fontsize)\n",
    "\n",
    "plt.close('all')\n",
    "fig, ax = plt.subplots()\n",
    "example_plot(ax, fontsize=24)"
   ]
  },
  {
   "cell_type": "markdown",
   "metadata": {},
   "source": [
    "To prevent this, the location of axes needs to be adjusted. For\n",
    "subplots, this can be done by adjusting the subplot params\n",
    "(`howto-subplots-adjust`). Matplotlib v1.1 introduces a new\n",
    "command :func:`~matplotlib.pyplot.tight_layout` that does this\n",
    "automatically for you.\n",
    "\n"
   ]
  },
  {
   "cell_type": "code",
   "execution_count": null,
   "metadata": {},
   "outputs": [],
   "source": [
    "fig, ax = plt.subplots()\n",
    "example_plot(ax, fontsize=24)\n",
    "plt.tight_layout()"
   ]
  },
  {
   "cell_type": "markdown",
   "metadata": {},
   "source": [
    "Note that :func:`matplotlib.pyplot.tight_layout` will only adjust the\n",
    "subplot params when it is called.  In order to perform this adjustment each\n",
    "time the figure is redrawn, you can call ``fig.set_tight_layout(True)``, or,\n",
    "equivalently, set the ``figure.autolayout`` rcParam to ``True``.\n",
    "\n",
    "When you have multiple subplots, often you see labels of different\n",
    "axes overlapping each other.\n",
    "\n"
   ]
  },
  {
   "cell_type": "code",
   "execution_count": null,
   "metadata": {},
   "outputs": [],
   "source": [
    "plt.close('all')\n",
    "\n",
    "fig, ((ax1, ax2), (ax3, ax4)) = plt.subplots(nrows=2, ncols=2)\n",
    "example_plot(ax1)\n",
    "example_plot(ax2)\n",
    "example_plot(ax3)\n",
    "example_plot(ax4)"
   ]
  },
  {
   "cell_type": "markdown",
   "metadata": {},
   "source": [
    ":func:`~matplotlib.pyplot.tight_layout` will also adjust spacing between\n",
    "subplots to minimize the overlaps.\n",
    "\n"
   ]
  },
  {
   "cell_type": "code",
   "execution_count": null,
   "metadata": {},
   "outputs": [],
   "source": [
    "fig, ((ax1, ax2), (ax3, ax4)) = plt.subplots(nrows=2, ncols=2)\n",
    "example_plot(ax1)\n",
    "example_plot(ax2)\n",
    "example_plot(ax3)\n",
    "example_plot(ax4)\n",
    "plt.tight_layout()"
   ]
  },
  {
   "cell_type": "markdown",
   "metadata": {},
   "source": [
    ":func:`~matplotlib.pyplot.tight_layout` can take keyword arguments of\n",
    "*pad*, *w_pad* and *h_pad*. These control the extra padding around the\n",
    "figure border and between subplots. The pads are specified in fraction\n",
    "of fontsize.\n",
    "\n"
   ]
  },
  {
   "cell_type": "code",
   "execution_count": null,
   "metadata": {},
   "outputs": [],
   "source": [
    "fig, ((ax1, ax2), (ax3, ax4)) = plt.subplots(nrows=2, ncols=2)\n",
    "example_plot(ax1)\n",
    "example_plot(ax2)\n",
    "example_plot(ax3)\n",
    "example_plot(ax4)\n",
    "plt.tight_layout(pad=0.4, w_pad=0.5, h_pad=1.0)"
   ]
  },
  {
   "cell_type": "markdown",
   "metadata": {},
   "source": [
    ":func:`~matplotlib.pyplot.tight_layout` will work even if the sizes of\n",
    "subplots are different as far as their grid specification is\n",
    "compatible. In the example below, *ax1* and *ax2* are subplots of a 2x2\n",
    "grid, while *ax3* is of a 1x2 grid.\n",
    "\n"
   ]
  },
  {
   "cell_type": "code",
   "execution_count": null,
   "metadata": {},
   "outputs": [],
   "source": [
    "plt.close('all')\n",
    "fig = plt.figure()\n",
    "\n",
    "ax1 = plt.subplot(221)\n",
    "ax2 = plt.subplot(223)\n",
    "ax3 = plt.subplot(122)\n",
    "\n",
    "example_plot(ax1)\n",
    "example_plot(ax2)\n",
    "example_plot(ax3)\n",
    "\n",
    "plt.tight_layout()"
   ]
  },
  {
   "cell_type": "markdown",
   "metadata": {},
   "source": [
    "It works with subplots created with\n",
    ":func:`~matplotlib.pyplot.subplot2grid`. In general, subplots created\n",
    "from the gridspec (:doc:`/tutorials/intermediate/gridspec`) will work.\n",
    "\n"
   ]
  },
  {
   "cell_type": "code",
   "execution_count": null,
   "metadata": {},
   "outputs": [],
   "source": [
    "plt.close('all')\n",
    "fig = plt.figure()\n",
    "\n",
    "ax1 = plt.subplot2grid((3, 3), (0, 0))\n",
    "ax2 = plt.subplot2grid((3, 3), (0, 1), colspan=2)\n",
    "ax3 = plt.subplot2grid((3, 3), (1, 0), colspan=2, rowspan=2)\n",
    "ax4 = plt.subplot2grid((3, 3), (1, 2), rowspan=2)\n",
    "\n",
    "example_plot(ax1)\n",
    "example_plot(ax2)\n",
    "example_plot(ax3)\n",
    "example_plot(ax4)\n",
    "\n",
    "plt.tight_layout()"
   ]
  },
  {
   "cell_type": "markdown",
   "metadata": {},
   "source": [
    "Although not thoroughly tested, it seems to work for subplots with\n",
    "aspect != \"auto\" (e.g., axes with images).\n",
    "\n"
   ]
  },
  {
   "cell_type": "code",
   "execution_count": null,
   "metadata": {},
   "outputs": [],
   "source": [
    "arr = np.arange(100).reshape((10, 10))\n",
    "\n",
    "plt.close('all')\n",
    "fig = plt.figure(figsize=(5, 4))\n",
    "\n",
    "ax = plt.subplot(111)\n",
    "im = ax.imshow(arr, interpolation=\"none\")\n",
    "\n",
    "plt.tight_layout()"
   ]
  },
  {
   "cell_type": "markdown",
   "metadata": {},
   "source": [
    "Caveats\n",
    "=======\n",
    "\n",
    " * :func:`~matplotlib.pyplot.tight_layout` only considers ticklabels, axis\n",
    "   labels, and titles. Thus, other artists may be clipped and also may\n",
    "   overlap.\n",
    "\n",
    " * It assumes that the extra space needed for ticklabels, axis labels,\n",
    "   and titles is independent of original location of axes. This is\n",
    "   often true, but there are rare cases where it is not.\n",
    "\n",
    " * pad=0 clips some of the texts by a few pixels. This may be a bug or\n",
    "   a limitation of the current algorithm and it is not clear why it\n",
    "   happens. Meanwhile, use of pad at least larger than 0.3 is\n",
    "   recommended.\n",
    "\n",
    "Use with GridSpec\n",
    "=================\n",
    "\n",
    "GridSpec has its own :func:`~matplotlib.gridspec.GridSpec.tight_layout` method\n",
    "(the pyplot api :func:`~matplotlib.pyplot.tight_layout` also works).\n",
    "\n"
   ]
  },
  {
   "cell_type": "code",
   "execution_count": null,
   "metadata": {},
   "outputs": [],
   "source": [
    "import matplotlib.gridspec as gridspec\n",
    "\n",
    "plt.close('all')\n",
    "fig = plt.figure()\n",
    "\n",
    "gs1 = gridspec.GridSpec(2, 1)\n",
    "ax1 = fig.add_subplot(gs1[0])\n",
    "ax2 = fig.add_subplot(gs1[1])\n",
    "\n",
    "example_plot(ax1)\n",
    "example_plot(ax2)\n",
    "\n",
    "gs1.tight_layout(fig)"
   ]
  },
  {
   "cell_type": "markdown",
   "metadata": {},
   "source": [
    "You may provide an optional *rect* parameter, which specifies the bounding box\n",
    "that the subplots will be fit inside. The coordinates must be in normalized\n",
    "figure coordinates and the default is (0, 0, 1, 1).\n",
    "\n"
   ]
  },
  {
   "cell_type": "code",
   "execution_count": null,
   "metadata": {},
   "outputs": [],
   "source": [
    "fig = plt.figure()\n",
    "\n",
    "gs1 = gridspec.GridSpec(2, 1)\n",
    "ax1 = fig.add_subplot(gs1[0])\n",
    "ax2 = fig.add_subplot(gs1[1])\n",
    "\n",
    "example_plot(ax1)\n",
    "example_plot(ax2)\n",
    "\n",
    "gs1.tight_layout(fig, rect=[0, 0, 0.5, 1])"
   ]
  },
  {
   "cell_type": "markdown",
   "metadata": {},
   "source": [
    "For example, this can be used for a figure with multiple gridspecs.\n",
    "\n"
   ]
  },
  {
   "cell_type": "code",
   "execution_count": null,
   "metadata": {},
   "outputs": [],
   "source": [
    "fig = plt.figure()\n",
    "\n",
    "gs1 = gridspec.GridSpec(2, 1)\n",
    "ax1 = fig.add_subplot(gs1[0])\n",
    "ax2 = fig.add_subplot(gs1[1])\n",
    "\n",
    "example_plot(ax1)\n",
    "example_plot(ax2)\n",
    "\n",
    "gs1.tight_layout(fig, rect=[0, 0, 0.5, 1])\n",
    "\n",
    "gs2 = gridspec.GridSpec(3, 1)\n",
    "\n",
    "for ss in gs2:\n",
    "    ax = fig.add_subplot(ss)\n",
    "    example_plot(ax)\n",
    "    ax.set_title(\"\")\n",
    "    ax.set_xlabel(\"\")\n",
    "\n",
    "ax.set_xlabel(\"x-label\", fontsize=12)\n",
    "\n",
    "gs2.tight_layout(fig, rect=[0.5, 0, 1, 1], h_pad=0.5)\n",
    "\n",
    "# We may try to match the top and bottom of two grids ::\n",
    "top = min(gs1.top, gs2.top)\n",
    "bottom = max(gs1.bottom, gs2.bottom)\n",
    "\n",
    "gs1.update(top=top, bottom=bottom)\n",
    "gs2.update(top=top, bottom=bottom)\n",
    "plt.show()"
   ]
  },
  {
   "cell_type": "markdown",
   "metadata": {},
   "source": [
    "While this should be mostly good enough, adjusting top and bottom\n",
    "may require adjustment of hspace also.  To update hspace & vspace, we\n",
    "call :func:`~matplotlib.gridspec.GridSpec.tight_layout` again with updated\n",
    "rect argument. Note that the rect argument specifies the area including the\n",
    "ticklabels, etc.  Thus, we will increase the bottom (which is 0 for the normal\n",
    "case) by the difference between the *bottom* from above and the bottom of each\n",
    "gridspec. Same thing for the top.\n",
    "\n"
   ]
  },
  {
   "cell_type": "code",
   "execution_count": null,
   "metadata": {},
   "outputs": [],
   "source": [
    "fig = plt.gcf()\n",
    "\n",
    "gs1 = gridspec.GridSpec(2, 1)\n",
    "ax1 = fig.add_subplot(gs1[0])\n",
    "ax2 = fig.add_subplot(gs1[1])\n",
    "\n",
    "example_plot(ax1)\n",
    "example_plot(ax2)\n",
    "\n",
    "gs1.tight_layout(fig, rect=[0, 0, 0.5, 1])\n",
    "\n",
    "gs2 = gridspec.GridSpec(3, 1)\n",
    "\n",
    "for ss in gs2:\n",
    "    ax = fig.add_subplot(ss)\n",
    "    example_plot(ax)\n",
    "    ax.set_title(\"\")\n",
    "    ax.set_xlabel(\"\")\n",
    "\n",
    "ax.set_xlabel(\"x-label\", fontsize=12)\n",
    "\n",
    "gs2.tight_layout(fig, rect=[0.5, 0, 1, 1], h_pad=0.5)\n",
    "\n",
    "top = min(gs1.top, gs2.top)\n",
    "bottom = max(gs1.bottom, gs2.bottom)\n",
    "\n",
    "gs1.update(top=top, bottom=bottom)\n",
    "gs2.update(top=top, bottom=bottom)\n",
    "\n",
    "top = min(gs1.top, gs2.top)\n",
    "bottom = max(gs1.bottom, gs2.bottom)\n",
    "\n",
    "gs1.tight_layout(fig, rect=[None, 0 + (bottom-gs1.bottom),\n",
    "                            0.5, 1 - (gs1.top-top)])\n",
    "gs2.tight_layout(fig, rect=[0.5, 0 + (bottom-gs2.bottom),\n",
    "                            None, 1 - (gs2.top-top)],\n",
    "                 h_pad=0.5)"
   ]
  },
  {
   "cell_type": "markdown",
   "metadata": {},
   "source": [
    "Legends and Annotations\n",
    "=======================\n",
    "\n",
    "Pre Matplotlib 2.2, legends and annotations were excluded from the bounding\n",
    "box calculations that decide the layout.  Subsequently these artists were\n",
    "added to the calculation, but sometimes it is undesirable to include them.\n",
    "For instance in this case it might be good to have the axes shring a bit\n",
    "to make room for the legend:\n",
    "\n"
   ]
  },
  {
   "cell_type": "code",
   "execution_count": null,
   "metadata": {},
   "outputs": [],
   "source": [
    "fig, ax = plt.subplots(figsize=(4, 3))\n",
    "lines = ax.plot(range(10), label='A simple plot')\n",
    "ax.legend(bbox_to_anchor=(0.7, 0.5), loc='center left',)\n",
    "fig.tight_layout()\n",
    "plt.show()"
   ]
  },
  {
   "cell_type": "markdown",
   "metadata": {},
   "source": [
    "However, sometimes this is not desired (quite often when using\n",
    "``fig.savefig('outname.png', bbox_inches='tight')``).  In order to\n",
    "remove the legend from the bounding box calculation, we simply set its\n",
    "bounding ``leg.set_in_layout(False)`` and the legend will be ignored.\n",
    "\n"
   ]
  },
  {
   "cell_type": "code",
   "execution_count": null,
   "metadata": {},
   "outputs": [],
   "source": [
    "fig, ax = plt.subplots(figsize=(4, 3))\n",
    "lines = ax.plot(range(10), label='B simple plot')\n",
    "leg = ax.legend(bbox_to_anchor=(0.7, 0.5), loc='center left',)\n",
    "leg.set_in_layout(False)\n",
    "fig.tight_layout()\n",
    "plt.show()"
   ]
  },
  {
   "cell_type": "markdown",
   "metadata": {},
   "source": [
    "Use with AxesGrid1\n",
    "==================\n",
    "\n",
    "While limited, :mod:`mpl_toolkits.axes_grid1` is also supported.\n",
    "\n"
   ]
  },
  {
   "cell_type": "code",
   "execution_count": null,
   "metadata": {},
   "outputs": [],
   "source": [
    "from mpl_toolkits.axes_grid1 import Grid\n",
    "\n",
    "plt.close('all')\n",
    "fig = plt.figure()\n",
    "grid = Grid(fig, rect=111, nrows_ncols=(2, 2),\n",
    "            axes_pad=0.25, label_mode='L',\n",
    "            )\n",
    "\n",
    "for ax in grid:\n",
    "    example_plot(ax)\n",
    "ax.title.set_visible(False)\n",
    "\n",
    "plt.tight_layout()"
   ]
  },
  {
   "cell_type": "markdown",
   "metadata": {},
   "source": [
    "Colorbar\n",
    "========\n",
    "\n",
    "If you create a colorbar with the :func:`~matplotlib.pyplot.colorbar`\n",
    "command, the created colorbar is an instance of Axes, *not* Subplot, so\n",
    "tight_layout does not work. With Matplotlib v1.1, you may create a\n",
    "colorbar as a subplot using the gridspec.\n",
    "\n"
   ]
  },
  {
   "cell_type": "code",
   "execution_count": null,
   "metadata": {},
   "outputs": [],
   "source": [
    "plt.close('all')\n",
    "arr = np.arange(100).reshape((10, 10))\n",
    "fig = plt.figure(figsize=(4, 4))\n",
    "im = plt.imshow(arr, interpolation=\"none\")\n",
    "\n",
    "plt.colorbar(im, use_gridspec=True)\n",
    "\n",
    "plt.tight_layout()"
   ]
  },
  {
   "cell_type": "markdown",
   "metadata": {},
   "source": [
    "Another option is to use AxesGrid1 toolkit to\n",
    "explicitly create an axes for colorbar.\n",
    "\n"
   ]
  },
  {
   "cell_type": "code",
   "execution_count": null,
   "metadata": {},
   "outputs": [],
   "source": [
    "from mpl_toolkits.axes_grid1 import make_axes_locatable\n",
    "\n",
    "plt.close('all')\n",
    "arr = np.arange(100).reshape((10, 10))\n",
    "fig = plt.figure(figsize=(4, 4))\n",
    "im = plt.imshow(arr, interpolation=\"none\")\n",
    "\n",
    "divider = make_axes_locatable(plt.gca())\n",
    "cax = divider.append_axes(\"right\", \"5%\", pad=\"3%\")\n",
    "plt.colorbar(im, cax=cax)\n",
    "\n",
    "plt.tight_layout()"
   ]
  }
 ],
 "metadata": {
  "kernelspec": {
   "display_name": "Python 2",
   "language": "python",
   "name": "python2"
  },
  "language_info": {
   "codemirror_mode": {
    "name": "ipython",
    "version": 2
   },
   "file_extension": ".py",
   "mimetype": "text/x-python",
   "name": "python",
   "nbconvert_exporter": "python",
   "pygments_lexer": "ipython2",
   "version": "2.7.16"
  }
 },
 "nbformat": 4,
 "nbformat_minor": 1
}
