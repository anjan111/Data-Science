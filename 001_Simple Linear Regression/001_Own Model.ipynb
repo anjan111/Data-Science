{
 "cells": [
  {
   "cell_type": "code",
   "execution_count": 1,
   "metadata": {},
   "outputs": [
    {
     "name": "stdout",
     "output_type": "stream",
     "text": [
      "[1.1999999999999995, 1.9999999999999996, 3.5999999999999996, 2.8, 4.3999999999999995]\n",
      "RMSE: 0.693\n"
     ]
    }
   ],
   "source": [
    "# Standalone simple linear regression example\n",
    "from math import sqrt\n",
    "\n",
    "# Calculate root mean squared error\n",
    "def rmse_metric(actual, predicted):\n",
    "        sum_error = 0.0\n",
    "        for i in range(len(actual)):\n",
    "            prediction_error = predicted[i] - actual[i]\n",
    "            sum_error += (prediction_error ** 2)\n",
    "        mean_error = sum_error / float(len(actual))\n",
    "        return sqrt(mean_error)\n",
    "\n",
    "# Evaluate regression algorithm on training dataset\n",
    "def evaluate_algorithm(dataset, algorithm):\n",
    "        test_set = list()\n",
    "        for row in dataset:\n",
    "            row_copy = list(row)\n",
    "            row_copy[-1] = None\n",
    "            test_set.append(row_copy)\n",
    "        predicted = algorithm(dataset, test_set)\n",
    "        print(predicted)\n",
    "        actual = [row[-1] for row in dataset]\n",
    "        rmse = rmse_metric(actual, predicted)\n",
    "        return rmse\n",
    "\n",
    "# Calculate the mean value of a list of numbers\n",
    "def mean(values):\n",
    "        return sum(values) / float(len(values))\n",
    "\n",
    "# Calculate covariance between x and y\n",
    "def covariance(x, mean_x, y, mean_y):\n",
    "        covar = 0.0\n",
    "        for i in range(len(x)):\n",
    "            covar += (x[i] - mean_x) * (y[i] - mean_y)\n",
    "        return covar\n",
    "\n",
    "# Calculate the variance of a list of numbers\n",
    "def variance(values, mean):\n",
    "        return sum([(x-mean)**2 for x in values])\n",
    "\n",
    "# Calculate coefficients\n",
    "def coefficients(dataset):\n",
    "        x = [row[0] for row in dataset]\n",
    "        y = [row[1] for row in dataset]\n",
    "        x_mean, y_mean = mean(x), mean(y)\n",
    "        b1 = covariance(x, x_mean, y, y_mean) / variance(x, x_mean)\n",
    "        b0 = y_mean - b1 * x_mean\n",
    "        return [b0, b1]\n",
    "\n",
    "# Simple linear regression algorithm\n",
    "def simple_linear_regression(train, test):\n",
    "        predictions = list()\n",
    "        b0, b1 = coefficients(train)\n",
    "        for row in test:\n",
    "            yhat = b0 + b1 * row[0]\n",
    "            predictions.append(yhat)\n",
    "        return predictions\n",
    "\n",
    "# Test simple linear regression\n",
    "dataset = [[1, 1], [2, 3], [4, 3], [3, 2], [5, 5]]\n",
    "rmse = evaluate_algorithm(dataset, simple_linear_regression)\n",
    "print('RMSE: %.3f' % (rmse))"
   ]
  },
  {
   "cell_type": "code",
   "execution_count": null,
   "metadata": {},
   "outputs": [],
   "source": []
  }
 ],
 "metadata": {
  "kernelspec": {
   "display_name": "Python 2",
   "language": "python",
   "name": "python2"
  },
  "language_info": {
   "codemirror_mode": {
    "name": "ipython",
    "version": 2
   },
   "file_extension": ".py",
   "mimetype": "text/x-python",
   "name": "python",
   "nbconvert_exporter": "python",
   "pygments_lexer": "ipython2",
   "version": "2.7.16"
  }
 },
 "nbformat": 4,
 "nbformat_minor": 2
}
