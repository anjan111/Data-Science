{
 "cells": [
  {
   "cell_type": "markdown",
   "metadata": {},
   "source": [
    "In this example we will create a normal distribution and take a smaller sample. From the sample, we show how to estimate the true mean and standard deviation of the larger population."
   ]
  },
  {
   "cell_type": "code",
   "execution_count": 2,
   "metadata": {},
   "outputs": [],
   "source": [
    "import matplotlib.pyplot as plt\n",
    "\n",
    "import pandas as pd\n",
    "import numpy as np\n",
    "import numpy.random as npr\n",
    "\n",
    "import collections"
   ]
  },
  {
   "cell_type": "code",
   "execution_count": 3,
   "metadata": {},
   "outputs": [
    {
     "name": "stdout",
     "output_type": "stream",
     "text": [
      "[109.34643543  99.79294052  96.77312044 ...  91.68040525 102.73348233\n",
      "  96.87366649]\n",
      "50000\n",
      "61.12390577928308\n",
      "137.56024537096135\n",
      "100.04801800346989\n"
     ]
    }
   ],
   "source": [
    "mean = 100\n",
    "stdev = 10\n",
    "\n",
    "population = np.random.normal(loc=mean, scale=stdev, size=50000)\n",
    "print(population)\n",
    "print(len(population))\n",
    "print(min(population))\n",
    "print(max(population))\n",
    "print(np.mean(population))\n"
   ]
  },
  {
   "cell_type": "code",
   "execution_count": 4,
   "metadata": {},
   "outputs": [
    {
     "name": "stdout",
     "output_type": "stream",
     "text": [
      "Requirement already satisfied: bootstrapped in c:\\users\\soc softech\\anaconda3\\lib\\site-packages (0.0.2)\n",
      "Requirement already satisfied: matplotlib>=1.5.3 in c:\\users\\soc softech\\anaconda3\\lib\\site-packages (from bootstrapped) (3.2.2)\n",
      "Requirement already satisfied: pandas>=0.18.1 in c:\\users\\soc softech\\anaconda3\\lib\\site-packages (from bootstrapped) (1.0.5)\n",
      "Requirement already satisfied: numpy>=1.11.1 in c:\\users\\soc softech\\anaconda3\\lib\\site-packages (from bootstrapped) (1.18.5)\n",
      "Requirement already satisfied: cycler>=0.10 in c:\\users\\soc softech\\anaconda3\\lib\\site-packages (from matplotlib>=1.5.3->bootstrapped) (0.10.0)\n",
      "Requirement already satisfied: python-dateutil>=2.1 in c:\\users\\soc softech\\anaconda3\\lib\\site-packages (from matplotlib>=1.5.3->bootstrapped) (2.8.1)\n",
      "Requirement already satisfied: pyparsing!=2.0.4,!=2.1.2,!=2.1.6,>=2.0.1 in c:\\users\\soc softech\\anaconda3\\lib\\site-packages (from matplotlib>=1.5.3->bootstrapped) (2.4.7)\n",
      "Requirement already satisfied: kiwisolver>=1.0.1 in c:\\users\\soc softech\\anaconda3\\lib\\site-packages (from matplotlib>=1.5.3->bootstrapped) (1.2.0)\n",
      "Requirement already satisfied: pytz>=2017.2 in c:\\users\\soc softech\\anaconda3\\lib\\site-packages (from pandas>=0.18.1->bootstrapped) (2020.1)\n",
      "Requirement already satisfied: six in c:\\users\\soc softech\\anaconda3\\lib\\site-packages (from cycler>=0.10->matplotlib>=1.5.3->bootstrapped) (1.15.0)\n"
     ]
    }
   ],
   "source": [
    "! pip install bootstrapped\n",
    "import bootstrapped.bootstrap as bs\n",
    "import bootstrapped.compare_functions as bs_compare\n",
    "import bootstrapped.stats_functions as bs_stats"
   ]
  },
  {
   "cell_type": "code",
   "execution_count": 5,
   "metadata": {},
   "outputs": [],
   "source": [
    "\n",
    "# take 1k 'samples' from the larger population\n",
    "samples = population[:1000]"
   ]
  },
  {
   "cell_type": "code",
   "execution_count": 7,
   "metadata": {},
   "outputs": [
    {
     "name": "stdout",
     "output_type": "stream",
     "text": [
      "[10.18746937]\n",
      "[100.17234975]\n"
     ]
    }
   ],
   "source": [
    "print(np.std([samples], axis=1))\n",
    "print(np.mean([samples],axis =1))"
   ]
  },
  {
   "cell_type": "code",
   "execution_count": 8,
   "metadata": {},
   "outputs": [],
   "source": [
    "# calculate bootstrap estimates for the mean and standard deviation\n",
    "mean_results = bs.bootstrap(samples, stat_func=bs_stats.mean)\n",
    "\n",
    "# see advanced_bootstrap_features.ipynb for a discussion of how to use the stat_func arg\n",
    "stdev_results = bs.bootstrap(samples, stat_func=bs_stats.std)"
   ]
  },
  {
   "cell_type": "code",
   "execution_count": 9,
   "metadata": {},
   "outputs": [
    {
     "name": "stdout",
     "output_type": "stream",
     "text": [
      "Bootstrapped mean should be: 100\n",
      "\t100.17234975369152    (99.5525605951183, 100.79621712384713)\n",
      "\n",
      "Bootstrapped stdev should be: 10\n",
      "\t10.187469373032249    (9.74149713858495, 10.650088312788025)\n"
     ]
    }
   ],
   "source": [
    "\n",
    "print('Bootstrapped mean should be: {}'.format(mean))\n",
    "print('\\t' + str(mean_results))\n",
    "print('')\n",
    "print('Bootstrapped stdev should be: {}'.format(stdev))\n",
    "print('\\t' + str(stdev_results))"
   ]
  },
  {
   "cell_type": "markdown",
   "metadata": {},
   "source": [
    "\n",
    "Analysis\n",
    "\n",
    "We found the mean and standard deviation we estimated are close to the true values. The bootstrap function also gives us error bars associated with the estimate.\n",
    "\n",
    "Compare bootstrap to t-distribution\n",
    "\n",
    "Below we will take several samples of different sizes from @population. For each sample we generate the 95% confidence intervals. We will see that the two methods produce functionally equivalent results."
   ]
  },
  {
   "cell_type": "code",
   "execution_count": 10,
   "metadata": {},
   "outputs": [],
   "source": [
    "import scipy.stats as st"
   ]
  },
  {
   "cell_type": "code",
   "execution_count": 11,
   "metadata": {},
   "outputs": [],
   "source": [
    "sample_size = [100, 350, 500, 1000, 2500, 3500, 5000, 8000, 10000]\n",
    "\n",
    "bootstrap_results = []\n",
    "\n",
    "normal_results = []\n",
    "\n",
    "for i in sample_size:\n",
    "    samples = np.random.choice(population, i, replace=True)\n",
    "    bsr = bs.bootstrap(samples, stat_func=bs_stats.mean, alpha=0.05)\n",
    "    \n",
    "    mr = st.t.interval(1-0.05, len(samples)-1, loc=np.mean(samples), scale=st.sem(samples))\n",
    "\n",
    "    bootstrap_results.append((bsr.lower_bound, bsr.upper_bound))\n",
    "    normal_results.append(mr)"
   ]
  },
  {
   "cell_type": "code",
   "execution_count": 12,
   "metadata": {},
   "outputs": [
    {
     "data": {
      "text/plain": [
       "Text(0.5, 1.0, 't-distribution vs Bootstrap')"
      ]
     },
     "execution_count": 12,
     "metadata": {},
     "output_type": "execute_result"
    },
    {
     "data": {
      "image/png": "[encoded data removed]",
      "text/plain": [
       "<Figure size 432x288 with 1 Axes>"
      ]
     },
     "metadata": {
      "needs_background": "light"
     },
     "output_type": "display_data"
    }
   ],
   "source": [
    "\n",
    "plt.plot(sample_size, [x[1] for x in bootstrap_results], c='blue')\n",
    "plt.plot(sample_size, [x[1] for x in normal_results], linestyle='--', c='orange')\n",
    "\n",
    "plt.plot(sample_size, [x[0] for x in bootstrap_results], c='blue', \n",
    "         label='Bootstrap')\n",
    "plt.plot(sample_size, [x[0] for x in normal_results], linestyle='--', c='orange', \n",
    "         label='t-distribution')\n",
    "\n",
    "plt.axhline(population.mean(), c='black', label='True Mean')\n",
    "plt.legend(loc='best')\n",
    "plt.title('t-distribution vs Bootstrap')"
   ]
  },
  {
   "cell_type": "code",
   "execution_count": null,
   "metadata": {},
   "outputs": [],
   "source": []
  }
 ],
 "metadata": {
  "kernelspec": {
   "display_name": "Python 3",
   "language": "python",
   "name": "python3"
  },
  "language_info": {
   "codemirror_mode": {
    "name": "ipython",
    "version": 3
   },
   "file_extension": ".py",
   "mimetype": "text/x-python",
   "name": "python",
   "nbconvert_exporter": "python",
   "pygments_lexer": "ipython3",
   "version": "3.8.3"
  }
 },
 "nbformat": 4,
 "nbformat_minor": 4
}
